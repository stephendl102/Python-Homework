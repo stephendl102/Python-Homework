{
 "cells": [
  {
   "cell_type": "code",
   "execution_count": 5,
   "metadata": {},
   "outputs": [
    {
     "name": "stdout",
     "output_type": "stream",
     "text": [
      "             pt1  pt2  pt3  pt4  pt5  pt6  pt7\n",
      "variable                                      \n",
      "Home_Prices   24   15    2   17   26   29   10\n",
      "Crime          2   15    3   12    5    3   11\n",
      "[[ 2. 24.]\n",
      " [15. 15.]\n",
      " [ 3.  2.]\n",
      " [12. 17.]\n",
      " [ 5. 26.]\n",
      " [ 3. 29.]\n",
      " [11. 10.]]\n"
     ]
    },
    {
     "data": {
      "text/plain": [
       "<matplotlib.collections.PathCollection at 0xfb6fb01550>"
      ]
     },
     "execution_count": 5,
     "metadata": {},
     "output_type": "execute_result"
    },
    {
     "data": {
      "image/png": "[encoded data removed]",
      "text/plain": [
       "<Figure size 432x288 with 1 Axes>"
      ]
     },
     "metadata": {},
     "output_type": "display_data"
    }
   ],
   "source": [
    "import numpy\n",
    "from sklearn import datasets\n",
    "import matplotlib.pyplot as plt\n",
    "import pandas\n",
    "ylabel = \"Home Prices\"\n",
    "xlabel = \"Crime\"\n",
    "\n",
    "plt.ylabel(ylabel)\n",
    "plt.xlabel(xlabel)\n",
    "\n",
    "data1 = pandas.read_csv('test.csv' ,index_col='variable')\n",
    "print(data1)\n",
    "x = data1.loc['Crime']\n",
    "y = data1.loc['Home_Prices']\n",
    "plt.scatter(x,y)\n",
    "\n",
    "data = numpy.loadtxt(fname='test1.csv', delimiter=',')\n",
    "print(data)\n",
    "a=data[:,0]\n",
    "b=data[:,1]\n",
    "plt.scatter(a, b)"
   ]
  },
  {
   "cell_type": "code",
   "execution_count": null,
   "metadata": {},
   "outputs": [],
   "source": []
  },
  {
   "cell_type": "code",
   "execution_count": null,
   "metadata": {},
   "outputs": [],
   "source": []
  }
 ],
 "metadata": {
  "kernelspec": {
   "display_name": "Python 3",
   "language": "python",
   "name": "python3"
  },
  "language_info": {
   "codemirror_mode": {
    "name": "ipython",
    "version": 3
   },
   "file_extension": ".py",
   "mimetype": "text/x-python",
   "name": "python",
   "nbconvert_exporter": "python",
   "pygments_lexer": "ipython3",
   "version": "3.6.5"
  }
 },
 "nbformat": 4,
 "nbformat_minor": 2
}
