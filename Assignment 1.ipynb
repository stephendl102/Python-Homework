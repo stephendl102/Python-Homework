{
 "cells": [
  {
   "cell_type": "code",
   "execution_count": 4,
   "metadata": {},
   "outputs": [
    {
     "name": "stdout",
     "output_type": "stream",
     "text": [
      "1\n"
     ]
    }
   ],
   "source": [
    "import numpy\n",
    "x=0 #pick a term of the fibonacci sequence you want\n",
    "def retrieve_Fib():\n",
    "    array=[None]*100 #sets up an empty array\n",
    "    a=1\n",
    "    b=1\n",
    "    for i in range(0,99,2): #skips i=1,3,5,7 etc.\n",
    "        array[i]=a #sets term 0 to a\n",
    "        b=a+b #b becomes itself plus the previous term\n",
    "        i+=1 #term 1 is now ready to be rewritten\n",
    "        array[i]=b #rewrites term 1 as b\n",
    "        a=a+b #gives a new value to be plugged in when i=3\n",
    "    return(array)\n",
    "print(retrieve_Fib()[x])\n",
    "assert((retrieve_Fib()[3])==5)\n",
    "assert((retrieve_Fib()[99])==573147844013817084101)"
   ]
  },
  {
   "cell_type": "code",
   "execution_count": null,
   "metadata": {},
   "outputs": [],
   "source": []
  }
 ],
 "metadata": {
  "kernelspec": {
   "display_name": "Python 3",
   "language": "python",
   "name": "python3"
  },
  "language_info": {
   "codemirror_mode": {
    "name": "ipython",
    "version": 3
   },
   "file_extension": ".py",
   "mimetype": "text/x-python",
   "name": "python",
   "nbconvert_exporter": "python",
   "pygments_lexer": "ipython3",
   "version": "3.6.5"
  }
 },
 "nbformat": 4,
 "nbformat_minor": 2
}
